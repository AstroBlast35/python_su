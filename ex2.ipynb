{
 "cells": [
  {
   "cell_type": "code",
   "execution_count": 1,
   "id": "62d4ec5d-d9d7-4ad4-bd5b-2b925503c04e",
   "metadata": {},
   "outputs": [],
   "source": [
    "import numpy as np\n",
    "import matplotlib.pyplot as plt\n",
    "from astropy.io import fits\n",
    "from astropy.table import Table\n",
    "from astropy import units as u\n",
    "plt.ion()\n",
    "import os"
   ]
  },
  {
   "cell_type": "code",
   "execution_count": 2,
   "id": "33263c53-1e0e-4f41-8f28-ce80cdc91c9c",
   "metadata": {},
   "outputs": [
    {
     "name": "stdout",
     "output_type": "stream",
     "text": [
      "50.0 m\n",
      "[23. 45. 88.] m\n"
     ]
    }
   ],
   "source": [
    "a = 50.0 * u.meter\n",
    "b = [23, 45, 88] * u.meter\n",
    "print(a)\n",
    "print(b)"
   ]
  },
  {
   "cell_type": "code",
   "execution_count": 3,
   "id": "5af96165-fd8e-46ae-b7a9-8ed3642a04a1",
   "metadata": {},
   "outputs": [
    {
     "data": {
      "text/latex": [
       "$52 \\; \\mathrm{m}$"
      ],
      "text/plain": [
       "<Quantity 52. m>"
      ]
     },
     "execution_count": 3,
     "metadata": {},
     "output_type": "execute_result"
    }
   ],
   "source": [
    "np.mean(b)"
   ]
  },
  {
   "cell_type": "code",
   "execution_count": 4,
   "id": "56b92e29-535d-4837-acc2-549077be6a68",
   "metadata": {},
   "outputs": [
    {
     "data": {
      "text/latex": [
       "$5 \\; \\mathrm{\\frac{m}{s}}$"
      ],
      "text/plain": [
       "<Quantity 5. m / s>"
      ]
     },
     "execution_count": 4,
     "metadata": {},
     "output_type": "execute_result"
    }
   ],
   "source": [
    "15 * u.meter / (3 * u.second)"
   ]
  },
  {
   "cell_type": "code",
   "execution_count": 5,
   "id": "f17e78a3-fb79-40eb-beb7-38c9eb20afd5",
   "metadata": {},
   "outputs": [
    {
     "name": "stdout",
     "output_type": "stream",
     "text": [
      "62.0 pc\n"
     ]
    }
   ],
   "source": [
    "x = 62 * u.parsec\n",
    "print(x)"
   ]
  },
  {
   "cell_type": "code",
   "execution_count": 6,
   "id": "40b37e46-689b-479d-8c0d-ff9b8ff00d12",
   "metadata": {},
   "outputs": [],
   "source": [
    "y = 45 * u.parsec"
   ]
  },
  {
   "cell_type": "code",
   "execution_count": 7,
   "id": "76328591-8687-4c13-bc6c-f8ca6f3854e2",
   "metadata": {},
   "outputs": [
    {
     "data": {
      "text/latex": [
       "$1.3777778 \\; \\mathrm{}$"
      ],
      "text/plain": [
       "<Quantity 1.37777778>"
      ]
     },
     "execution_count": 7,
     "metadata": {},
     "output_type": "execute_result"
    }
   ],
   "source": [
    "x /y"
   ]
  },
  {
   "cell_type": "code",
   "execution_count": 8,
   "id": "da2f3da5-48c5-4621-aeab-680ed98da2b0",
   "metadata": {},
   "outputs": [
    {
     "data": {
      "text/plain": [
       "62.0"
      ]
     },
     "execution_count": 8,
     "metadata": {},
     "output_type": "execute_result"
    }
   ],
   "source": [
    "z = x.value\n",
    "z"
   ]
  },
  {
   "cell_type": "code",
   "execution_count": 9,
   "id": "defd1deb-eb72-4cdd-8fe8-10111e87e8f7",
   "metadata": {},
   "outputs": [],
   "source": [
    "z = x.value / y.value"
   ]
  },
  {
   "cell_type": "code",
   "execution_count": 10,
   "id": "82918104-c1bb-4b01-a5b6-6a26133138f2",
   "metadata": {},
   "outputs": [
    {
     "data": {
      "text/plain": [
       "1.3777777777777778"
      ]
     },
     "execution_count": 10,
     "metadata": {},
     "output_type": "execute_result"
    }
   ],
   "source": [
    "z"
   ]
  },
  {
   "cell_type": "code",
   "execution_count": 11,
   "id": "6363f72f-efab-4664-a16e-0054b60b345e",
   "metadata": {},
   "outputs": [
    {
     "data": {
      "text/plain": [
       "1.38"
      ]
     },
     "execution_count": 11,
     "metadata": {},
     "output_type": "execute_result"
    }
   ],
   "source": [
    "np.around(z, decimals=2)"
   ]
  },
  {
   "cell_type": "code",
   "execution_count": 12,
   "id": "35692ab3-3351-4051-9030-d3f404c218dd",
   "metadata": {},
   "outputs": [
    {
     "name": "stdout",
     "output_type": "stream",
     "text": [
      "<class 'astropy.units.quantity.Quantity'>\n",
      "<class 'numpy.float64'>\n",
      "<class 'str'>\n",
      "<class 'float'>\n",
      "<class 'int'>\n"
     ]
    }
   ],
   "source": [
    "print(type(x))\n",
    "print(type(z))\n",
    "print(type('Python'))\n",
    "print(type(2.0))\n",
    "print(type(int(2.0)))"
   ]
  },
  {
   "cell_type": "code",
   "execution_count": 15,
   "id": "d0ac555c-bc68-45b1-8451-9386d2d215c3",
   "metadata": {},
   "outputs": [
    {
     "name": "stdout",
     "output_type": "stream",
     "text": [
      "[1. 1. 1.] s\n",
      "[23. 45. 88.] m / s\n"
     ]
    }
   ],
   "source": [
    "time = [1, 1, 1] * u.second\n",
    "print(time)\n",
    "speed = b/time\n",
    "print(speed)"
   ]
  },
  {
   "cell_type": "code",
   "execution_count": 24,
   "id": "a116db74-88b5-4396-9ea6-7eb46f9f1289",
   "metadata": {},
   "outputs": [
    {
     "data": {
      "image/png": "[encoded data removed]",
      "text/plain": [
       "<Figure size 500x300 with 1 Axes>"
      ]
     },
     "metadata": {},
     "output_type": "display_data"
    }
   ],
   "source": [
    "plt.figure(figsize=(5,3))\n",
    "plt.plot(speed, [10, 20, 30], ls='', color='#300500', marker='.', \n",
    "         label='Wind Vitosha')\n",
    "plt.xlabel(\"distance [m]\", fontsize=14)\n",
    "plt.ylabel(\"time [s]\", fontsize=14)\n",
    "plt.legend()\n",
    "\n",
    "l1 = np.linspace(0, 100, 2)\n",
    "l2 = np.linspace(0, 100, 2)\n",
    "# plt.plot(l1, l2, color='gray', ls='--')"
   ]
  },
  {
   "cell_type": "code",
   "execution_count": null,
   "id": "0cec1119-3626-465b-8660-79450769eb72",
   "metadata": {},
   "outputs": [],
   "source": []
  },
  {
   "cell_type": "code",
   "execution_count": null,
   "id": "c9b09300-f787-413f-a709-33cac3300e9d",
   "metadata": {},
   "outputs": [],
   "source": []
  }
 ],
 "metadata": {
  "kernelspec": {
   "display_name": "Python 3 (ipykernel)",
   "language": "python",
   "name": "python3"
  },
  "language_info": {
   "codemirror_mode": {
    "name": "ipython",
    "version": 3
   },
   "file_extension": ".py",
   "mimetype": "text/x-python",
   "name": "python",
   "nbconvert_exporter": "python",
   "pygments_lexer": "ipython3",
   "version": "3.10.12"
  }
 },
 "nbformat": 4,
 "nbformat_minor": 5
}
