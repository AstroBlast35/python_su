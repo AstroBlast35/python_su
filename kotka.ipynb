{
 "cells": [
  {
   "cell_type": "markdown",
   "id": "000a6188-5a3e-45b9-ace1-d58243d47146",
   "metadata": {},
   "source": [
    "# Schrodinger\n",
    "\n",
    "In quantum mechanics, Schrödinger's cat is a thought experiment concerning quantum superposition. In the thought experiment, a hypothetical cat in a closed box may be considered to be simultaneously both alive and dead while it is unobserved, as a result of its fate being linked to a random subatomic event that may or may not occur. This experiment, viewed this way, is described as a paradox. This thought experiment was devised by physicist Erwin Schrödinger in 1935 in a discussion with Albert Einstein to illustrate what Schrödinger saw as the problems of the Copenhagen interpretation of quantum mechanics. ![CAT](https://upload.wikimedia.org/wikipedia/commons/thumb/9/91/Schrodingers_cat.svg/330px-Schrodingers_cat.svg.png)"
   ]
  },
  {
   "cell_type": "markdown",
   "id": "b2a42b82-b899-487a-b9bc-4f04ce24810d",
   "metadata": {},
   "source": [
    "> https://upload.wikimedia.org/wikipedia/commons/thumb/9/91/Schrodingers_cat.svg/330px-Schrodingers_cat.svg.png\n"
   ]
  },
  {
   "cell_type": "code",
   "execution_count": null,
   "id": "4ad551d3-aec0-4915-8525-3fce173e2efc",
   "metadata": {},
   "outputs": [],
   "source": []
  },
  {
   "cell_type": "code",
   "execution_count": null,
   "id": "5cab9ab1-4f3b-40ba-bf3e-adc234b197eb",
   "metadata": {},
   "outputs": [],
   "source": []
  }
 ],
 "metadata": {
  "kernelspec": {
   "display_name": "Python 3 (ipykernel)",
   "language": "python",
   "name": "python3"
  },
  "language_info": {
   "codemirror_mode": {
    "name": "ipython",
    "version": 3
   },
   "file_extension": ".py",
   "mimetype": "text/x-python",
   "name": "python",
   "nbconvert_exporter": "python",
   "pygments_lexer": "ipython3",
   "version": "3.10.12"
  }
 },
 "nbformat": 4,
 "nbformat_minor": 5
}
